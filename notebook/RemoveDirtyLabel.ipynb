{
 "cells": [
  {
   "cell_type": "code",
   "execution_count": 4,
   "metadata": {
    "ExecuteTime": {
     "end_time": "2020-03-12T16:58:07.286118Z",
     "start_time": "2020-03-12T16:58:07.283088Z"
    }
   },
   "outputs": [],
   "source": [
    "import pandas as pd\n",
    "import numpy as np\n",
    "from pathlib import Path\n",
    "from sklearn.model_selection import train_test_split\n",
    "from sklearn.preprocessing import LabelEncoder"
   ]
  },
  {
   "cell_type": "code",
   "execution_count": 8,
   "metadata": {
    "ExecuteTime": {
     "end_time": "2020-03-12T16:58:33.382548Z",
     "start_time": "2020-03-12T16:58:33.172212Z"
    }
   },
   "outputs": [],
   "source": [
    "ROOT_PATH = Path(\".\").resolve().parents[0] # please change here\n"
   ]
  },
  {
   "cell_type": "code",
   "execution_count": 18,
   "metadata": {
    "ExecuteTime": {
     "end_time": "2020-03-12T17:00:07.367520Z",
     "start_time": "2020-03-12T17:00:07.360611Z"
    }
   },
   "outputs": [],
   "source": [
    "def make_validation(ratio=0.2, random_state=1116):\n",
    "    le = LabelEncoder()\n",
    "    train_df = pd.read_csv(ROOT_PATH / \"input\" / \"bengaliai-cv19\" / \"train.csv\")\n",
    "    le = le.fit(train_df['grapheme'])\n",
    "    train_df['unique_label'] = le.transform(train_df['grapheme'])\n",
    "    train_df = train_df.query(\"grapheme!='র্দ্র' and grapheme!='র্ত্রে' and grapheme!= 'র্ত্রী'\")\n",
    "    train, valid = train_test_split(train_df, test_size=ratio, random_state=random_state, stratify=train_df[\"unique_label\"])\n",
    "    out_train = train.set_index(\"image_id\")\n",
    "    out_valid = valid.set_index(\"image_id\")\n",
    "    print(\"train length: {} {}\".format(len(out_train), len(out_train) / len(train_df)))\n",
    "    print(\"valid length: {} {}\".format(len(out_valid), len(out_valid) / len(train_df)))\n",
    "    print(out_train[\"unique_label\"].nunique())\n",
    "    print(out_valid[\"unique_label\"].nunique())\n",
    "    print(\"-------------------\")\n",
    "    out_train.to_csv(ROOT_PATH / \"input\" / \"bengaliai-cv19\" / \"moco_train2_{}.csv\".format(int(ratio * 100)))\n",
    "    out_valid.to_csv(ROOT_PATH / \"input\" / \"bengaliai-cv19\" / \"moco_valid2_{}.csv\".format(int(ratio * 100)))"
   ]
  },
  {
   "cell_type": "code",
   "execution_count": 19,
   "metadata": {
    "ExecuteTime": {
     "end_time": "2020-03-12T17:00:12.817164Z",
     "start_time": "2020-03-12T17:00:07.838907Z"
    }
   },
   "outputs": [
    {
     "name": "stdout",
     "output_type": "stream",
     "text": [
      "train length: 160315 0.7999990019661267\n",
      "valid length: 40079 0.20000099803387328\n",
      "1292\n",
      "1292\n",
      "-------------------\n",
      "train length: 170334 0.8499955088475702\n",
      "valid length: 30060 0.15000449115242973\n",
      "1292\n",
      "1292\n",
      "-------------------\n",
      "train length: 180354 0.8999970058983802\n",
      "valid length: 20040 0.10000299410161981\n",
      "1292\n",
      "1292\n",
      "-------------------\n"
     ]
    }
   ],
   "source": [
    "make_validation(0.20)\n",
    "make_validation(0.15)\n",
    "make_validation(0.10)"
   ]
  },
  {
   "cell_type": "code",
   "execution_count": null,
   "metadata": {},
   "outputs": [],
   "source": []
  }
 ],
 "metadata": {
  "kernelspec": {
   "display_name": "Python 3",
   "language": "python",
   "name": "python3"
  },
  "language_info": {
   "codemirror_mode": {
    "name": "ipython",
    "version": 3
   },
   "file_extension": ".py",
   "mimetype": "text/x-python",
   "name": "python",
   "nbconvert_exporter": "python",
   "pygments_lexer": "ipython3",
   "version": "3.7.0"
  }
 },
 "nbformat": 4,
 "nbformat_minor": 2
}
