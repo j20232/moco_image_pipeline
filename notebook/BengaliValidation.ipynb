{
 "cells": [
  {
   "cell_type": "code",
   "execution_count": 1,
   "metadata": {
    "ExecuteTime": {
     "end_time": "2020-02-15T15:24:10.971166Z",
     "start_time": "2020-02-15T15:24:10.392582Z"
    }
   },
   "outputs": [],
   "source": [
    "import pandas as pd\n",
    "import numpy as np\n",
    "from pathlib import Path\n",
    "from sklearn.model_selection import train_test_split"
   ]
  },
  {
   "cell_type": "code",
   "execution_count": 2,
   "metadata": {
    "ExecuteTime": {
     "end_time": "2020-02-15T15:24:11.193016Z",
     "start_time": "2020-02-15T15:24:10.973839Z"
    }
   },
   "outputs": [],
   "source": [
    "ROOT_PATH = Path(\".\").resolve().parents[0] # please change here\n",
    "train_df = pd.read_csv(ROOT_PATH / \"input\" / \"train.csv\")"
   ]
  },
  {
   "cell_type": "code",
   "execution_count": 3,
   "metadata": {
    "ExecuteTime": {
     "end_time": "2020-02-15T15:24:11.199465Z",
     "start_time": "2020-02-15T15:24:11.195015Z"
    }
   },
   "outputs": [],
   "source": [
    "def make_validation(ratio=0.2, random_state=1116):\n",
    "    train_df[\"validation\"] = (train_df[\"grapheme_root\"] + 1) * 100000 + (train_df[\"vowel_diacritic\"] + 1) * 1000 + train_df[\"consonant_diacritic\"]\n",
    "    train, valid = train_test_split(train_df, test_size=ratio, random_state=random_state, stratify=train_df[\"validation\"])\n",
    "    out_train = train.set_index(\"image_id\")\n",
    "    out_valid = valid.set_index(\"image_id\")\n",
    "    del out_train[\"validation\"], out_valid[\"validation\"] \n",
    "    out_train.to_csv(ROOT_PATH / \"input\" / \"moco_train_{}.csv\".format(int(ratio * 100)))\n",
    "    out_valid.to_csv(ROOT_PATH / \"input\" / \"moco_valid_{}.csv\".format(int(ratio * 100)))"
   ]
  },
  {
   "cell_type": "code",
   "execution_count": 12,
   "metadata": {
    "ExecuteTime": {
     "end_time": "2020-02-15T15:23:58.603799Z",
     "start_time": "2020-02-15T15:23:55.944489Z"
    },
    "scrolled": false
   },
   "outputs": [],
   "source": [
    "make_validation(0.2)\n",
    "make_validation(0.15)\n",
    "make_validation(0.1)"
   ]
  },
  {
   "cell_type": "code",
   "execution_count": null,
   "metadata": {},
   "outputs": [],
   "source": []
  }
 ],
 "metadata": {
  "kernelspec": {
   "display_name": "Python 3",
   "language": "python",
   "name": "python3"
  },
  "language_info": {
   "codemirror_mode": {
    "name": "ipython",
    "version": 3
   },
   "file_extension": ".py",
   "mimetype": "text/x-python",
   "name": "python",
   "nbconvert_exporter": "python",
   "pygments_lexer": "ipython3",
   "version": "3.7.0"
  }
 },
 "nbformat": 4,
 "nbformat_minor": 2
}
