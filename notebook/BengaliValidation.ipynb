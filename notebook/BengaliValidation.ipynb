{
 "cells": [
  {
   "cell_type": "code",
   "execution_count": 1,
   "metadata": {
    "ExecuteTime": {
     "end_time": "2020-02-15T15:09:02.719966Z",
     "start_time": "2020-02-15T15:09:01.887336Z"
    }
   },
   "outputs": [],
   "source": [
    "import pandas as pd\n",
    "import numpy as np\n",
    "import matplotlib.pyplot as plt\n",
    "import warnings\n",
    "from pathlib import Path\n",
    "import seaborn as sns\n",
    "from sklearn.model_selection import train_test_split\n",
    "warnings.filterwarnings(\"ignore\")"
   ]
  },
  {
   "cell_type": "code",
   "execution_count": 22,
   "metadata": {
    "ExecuteTime": {
     "end_time": "2020-02-15T15:18:20.296471Z",
     "start_time": "2020-02-15T15:18:20.090986Z"
    }
   },
   "outputs": [
    {
     "name": "stdout",
     "output_type": "stream",
     "text": [
      "/Users/berry/Kaggle/bengali\n"
     ]
    },
    {
     "data": {
      "text/html": [
       "<div>\n",
       "<style scoped>\n",
       "    .dataframe tbody tr th:only-of-type {\n",
       "        vertical-align: middle;\n",
       "    }\n",
       "\n",
       "    .dataframe tbody tr th {\n",
       "        vertical-align: top;\n",
       "    }\n",
       "\n",
       "    .dataframe thead th {\n",
       "        text-align: right;\n",
       "    }\n",
       "</style>\n",
       "<table border=\"1\" class=\"dataframe\">\n",
       "  <thead>\n",
       "    <tr style=\"text-align: right;\">\n",
       "      <th></th>\n",
       "      <th>image_id</th>\n",
       "      <th>grapheme_root</th>\n",
       "      <th>vowel_diacritic</th>\n",
       "      <th>consonant_diacritic</th>\n",
       "      <th>grapheme</th>\n",
       "    </tr>\n",
       "  </thead>\n",
       "  <tbody>\n",
       "    <tr>\n",
       "      <th>0</th>\n",
       "      <td>Train_0</td>\n",
       "      <td>15</td>\n",
       "      <td>9</td>\n",
       "      <td>5</td>\n",
       "      <td>ক্ট্রো</td>\n",
       "    </tr>\n",
       "    <tr>\n",
       "      <th>1</th>\n",
       "      <td>Train_1</td>\n",
       "      <td>159</td>\n",
       "      <td>0</td>\n",
       "      <td>0</td>\n",
       "      <td>হ</td>\n",
       "    </tr>\n",
       "    <tr>\n",
       "      <th>2</th>\n",
       "      <td>Train_2</td>\n",
       "      <td>22</td>\n",
       "      <td>3</td>\n",
       "      <td>5</td>\n",
       "      <td>খ্রী</td>\n",
       "    </tr>\n",
       "    <tr>\n",
       "      <th>3</th>\n",
       "      <td>Train_3</td>\n",
       "      <td>53</td>\n",
       "      <td>2</td>\n",
       "      <td>2</td>\n",
       "      <td>র্টি</td>\n",
       "    </tr>\n",
       "    <tr>\n",
       "      <th>4</th>\n",
       "      <td>Train_4</td>\n",
       "      <td>71</td>\n",
       "      <td>9</td>\n",
       "      <td>5</td>\n",
       "      <td>থ্রো</td>\n",
       "    </tr>\n",
       "  </tbody>\n",
       "</table>\n",
       "</div>"
      ],
      "text/plain": [
       "  image_id  grapheme_root  vowel_diacritic  consonant_diacritic grapheme\n",
       "0  Train_0             15                9                    5   ক্ট্রো\n",
       "1  Train_1            159                0                    0        হ\n",
       "2  Train_2             22                3                    5     খ্রী\n",
       "3  Train_3             53                2                    2     র্টি\n",
       "4  Train_4             71                9                    5     থ্রো"
      ]
     },
     "metadata": {},
     "output_type": "display_data"
    }
   ],
   "source": [
    "ROOT_PATH = Path(\".\").resolve().parents[0]\n",
    "print(ROOT_PATH)\n",
    "\n",
    "train_df = pd.read_csv(ROOT_PATH / \"input\" / \"train.csv\")\n",
    "display(train_df.head(5))"
   ]
  },
  {
   "cell_type": "code",
   "execution_count": 4,
   "metadata": {
    "ExecuteTime": {
     "end_time": "2020-02-15T15:09:03.238925Z",
     "start_time": "2020-02-15T15:09:02.975056Z"
    }
   },
   "outputs": [
    {
     "data": {
      "image/png": "[encoded data removed]",
      "text/plain": [
       "<Figure size 432x288 with 1 Axes>"
      ]
     },
     "metadata": {
      "needs_background": "light"
     },
     "output_type": "display_data"
    },
    {
     "name": "stdout",
     "output_type": "stream",
     "text": [
      "number of kinds:  168\n"
     ]
    }
   ],
   "source": [
    "sns.distplot(train_df[\"grapheme_root\"], kde=False, norm_hist=True)\n",
    "plt.title(\"grapheme_root\")\n",
    "plt.show()\n",
    "print(\"number of kinds: \", len(train_df[\"grapheme_root\"].value_counts().keys()))"
   ]
  },
  {
   "cell_type": "code",
   "execution_count": 5,
   "metadata": {
    "ExecuteTime": {
     "end_time": "2020-02-15T15:09:03.467014Z",
     "start_time": "2020-02-15T15:09:03.240926Z"
    }
   },
   "outputs": [
    {
     "data": {
      "image/png": "[encoded data removed]",
      "text/plain": [
       "<Figure size 432x288 with 1 Axes>"
      ]
     },
     "metadata": {
      "needs_background": "light"
     },
     "output_type": "display_data"
    },
    {
     "name": "stdout",
     "output_type": "stream",
     "text": [
      "number of kinds:  11\n"
     ]
    }
   ],
   "source": [
    "sns.distplot(train_df[\"vowel_diacritic\"], kde=False, norm_hist=True)\n",
    "plt.title(\"vowel_diacritic\")\n",
    "plt.show()\n",
    "print(\"number of kinds: \", len(train_df[\"vowel_diacritic\"].value_counts().keys()))"
   ]
  },
  {
   "cell_type": "code",
   "execution_count": 6,
   "metadata": {
    "ExecuteTime": {
     "end_time": "2020-02-15T15:09:03.706304Z",
     "start_time": "2020-02-15T15:09:03.469031Z"
    }
   },
   "outputs": [
    {
     "data": {
      "image/png": "[encoded data removed]",
      "text/plain": [
       "<Figure size 432x288 with 1 Axes>"
      ]
     },
     "metadata": {
      "needs_background": "light"
     },
     "output_type": "display_data"
    },
    {
     "name": "stdout",
     "output_type": "stream",
     "text": [
      "number of kinds:  7\n"
     ]
    }
   ],
   "source": [
    "sns.distplot(train_df[\"consonant_diacritic\"], kde=False, norm_hist=True)\n",
    "plt.title(\"consonant_diacritic\")\n",
    "plt.show()\n",
    "print(\"number of kinds: \", len(train_df[\"consonant_diacritic\"].value_counts().keys()))"
   ]
  },
  {
   "cell_type": "markdown",
   "metadata": {},
   "source": [
    "## Combination"
   ]
  },
  {
   "cell_type": "code",
   "execution_count": 7,
   "metadata": {
    "ExecuteTime": {
     "end_time": "2020-02-15T15:09:03.987423Z",
     "start_time": "2020-02-15T15:09:03.708567Z"
    }
   },
   "outputs": [
    {
     "data": {
      "image/png": "[encoded data removed]",
      "text/plain": [
       "<Figure size 432x288 with 1 Axes>"
      ]
     },
     "metadata": {
      "needs_background": "light"
     },
     "output_type": "display_data"
    }
   ],
   "source": [
    "res = train_df.assign(count=0).groupby([\"grapheme_root\", \"vowel_diacritic\", \"consonant_diacritic\"])[\"count\"].count().reset_index()\n",
    "res[\"count\"].hist(bins=len(res[\"count\"].value_counts().keys()), normed=True)\n",
    "plt.title(\"combination\")\n",
    "plt.show()"
   ]
  },
  {
   "cell_type": "code",
   "execution_count": 30,
   "metadata": {
    "ExecuteTime": {
     "end_time": "2020-02-15T15:20:37.371460Z",
     "start_time": "2020-02-15T15:20:37.355361Z"
    }
   },
   "outputs": [],
   "source": [
    "def make_validation(ratio=0.2):\n",
    "    train_df[\"validation\"] = (train_df[\"grapheme_root\"] + 1) * 100000 + (train_df[\"vowel_diacritic\"] + 1) * 1000 + train_df[\"consonant_diacritic\"]\n",
    "    train, valid = train_test_split(train_df, test_size=ratio, random_state=1116, stratify=train_df[\"validation\"])\n",
    "    out_train = train.set_index(\"image_id\")\n",
    "    out_valid = valid.set_index(\"image_id\")\n",
    "    del out_train[\"validation\"], out_valid[\"validation\"] \n",
    "    out_train.to_csv(ROOT_PATH / \"input\" / \"moco_train_{}.csv\".format(int(ratio * 100)))\n",
    "    out_valid.to_csv(ROOT_PATH / \"input\" / \"moco_valid_{}.csv\".format(int(ratio * 100)))"
   ]
  },
  {
   "cell_type": "code",
   "execution_count": 31,
   "metadata": {
    "ExecuteTime": {
     "end_time": "2020-02-15T15:20:38.556364Z",
     "start_time": "2020-02-15T15:20:37.703965Z"
    },
    "scrolled": false
   },
   "outputs": [],
   "source": [
    "make_validation(0.2)"
   ]
  },
  {
   "cell_type": "code",
   "execution_count": 32,
   "metadata": {
    "ExecuteTime": {
     "end_time": "2020-02-15T15:20:39.470813Z",
     "start_time": "2020-02-15T15:20:38.558735Z"
    }
   },
   "outputs": [],
   "source": [
    "make_validation(0.15)"
   ]
  },
  {
   "cell_type": "code",
   "execution_count": 33,
   "metadata": {
    "ExecuteTime": {
     "end_time": "2020-02-15T15:20:40.389137Z",
     "start_time": "2020-02-15T15:20:39.472672Z"
    }
   },
   "outputs": [],
   "source": [
    "make_validation(0.1)"
   ]
  },
  {
   "cell_type": "code",
   "execution_count": null,
   "metadata": {},
   "outputs": [],
   "source": []
  }
 ],
 "metadata": {
  "kernelspec": {
   "display_name": "Python 3",
   "language": "python",
   "name": "python3"
  },
  "language_info": {
   "codemirror_mode": {
    "name": "ipython",
    "version": 3
   },
   "file_extension": ".py",
   "mimetype": "text/x-python",
   "name": "python",
   "nbconvert_exporter": "python",
   "pygments_lexer": "ipython3",
   "version": "3.7.0"
  }
 },
 "nbformat": 4,
 "nbformat_minor": 2
}
