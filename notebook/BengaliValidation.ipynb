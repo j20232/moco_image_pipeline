{
 "cells": [
  {
   "cell_type": "code",
   "execution_count": 1,
   "metadata": {
    "ExecuteTime": {
     "end_time": "2020-03-03T11:25:34.435266Z",
     "start_time": "2020-03-03T11:25:34.081242Z"
    }
   },
   "outputs": [],
   "source": [
    "import pandas as pd\n",
    "import numpy as np\n",
    "from pathlib import Path\n",
    "from sklearn.model_selection import train_test_split"
   ]
  },
  {
   "cell_type": "code",
   "execution_count": 2,
   "metadata": {
    "ExecuteTime": {
     "end_time": "2020-03-03T11:25:34.534332Z",
     "start_time": "2020-03-03T11:25:34.436374Z"
    }
   },
   "outputs": [],
   "source": [
    "ROOT_PATH = Path(\".\").resolve().parents[0] # please change here\n",
    "train_df = pd.read_csv(ROOT_PATH / \"input\" / \"bengaliai-cv19\" / \"train.csv\")"
   ]
  },
  {
   "cell_type": "code",
   "execution_count": 3,
   "metadata": {
    "ExecuteTime": {
     "end_time": "2020-03-03T11:25:34.571421Z",
     "start_time": "2020-03-03T11:25:34.567908Z"
    }
   },
   "outputs": [],
   "source": [
    "def make_validation(ratio=0.2, random_state=1116):\n",
    "    train_df[\"validation\"] = (train_df[\"grapheme_root\"] + 1) * 100000 + (train_df[\"vowel_diacritic\"] + 1) * 1000 + train_df[\"consonant_diacritic\"]\n",
    "    train, valid = train_test_split(train_df, test_size=ratio, random_state=random_state, stratify=train_df[\"validation\"])\n",
    "    out_train = train.set_index(\"image_id\")\n",
    "    out_valid = valid.set_index(\"image_id\")\n",
    "    del out_train[\"validation\"], out_valid[\"validation\"] \n",
    "    out_train.to_csv(ROOT_PATH / \"input\" / \"bengaliai-cv19\" / \"moco_train_{}.csv\".format(int(ratio * 100)))\n",
    "    out_valid.to_csv(ROOT_PATH / \"input\" / \"bengaliai-cv19\" / \"moco_valid_{}.csv\".format(int(ratio * 100)))"
   ]
  },
  {
   "cell_type": "code",
   "execution_count": 4,
   "metadata": {
    "ExecuteTime": {
     "end_time": "2020-03-03T11:25:36.567198Z",
     "start_time": "2020-03-03T11:25:35.512069Z"
    },
    "scrolled": false
   },
   "outputs": [],
   "source": [
    "make_validation(0.2)\n",
    "make_validation(0.15)\n",
    "make_validation(0.1)"
   ]
  },
  {
   "cell_type": "code",
   "execution_count": 11,
   "metadata": {
    "ExecuteTime": {
     "end_time": "2020-03-03T11:24:01.709701Z",
     "start_time": "2020-03-03T11:24:01.684979Z"
    }
   },
   "outputs": [],
   "source": [
    "def make_down_sampling_validation(ratio=0.2, sampling_rate=0.5, random_state=1116):\n",
    "    train_df[\"validation\"] = (train_df[\"grapheme_root\"] + 1) * 100000 + (train_df[\"vowel_diacritic\"] + 1) * 1000 + train_df[\"consonant_diacritic\"]\n",
    "    train, valid = train_test_split(train_df, test_size=sampling_rate, random_state=random_state, stratify=train_df[\"validation\"])\n",
    "    train, valid = train_test_split(valid, test_size=ratio, random_state=random_state, stratify=valid[\"validation\"])\n",
    "    out_train = train.set_index(\"image_id\")\n",
    "    out_valid = valid.set_index(\"image_id\")\n",
    "    del out_train[\"validation\"], out_valid[\"validation\"] \n",
    "    out_train.to_csv(ROOT_PATH / \"input\" / \"bengaliai-cv19\" / \"d_{}_moco_train_{}.csv\".format(int(sampling_rate * 100), int(ratio * 100)))\n",
    "    out_valid.to_csv(ROOT_PATH / \"input\" / \"bengaliai-cv19\" / \"d_{}_moco_valid_{}.csv\".format(int(sampling_rate * 100), int(ratio * 100)))"
   ]
  },
  {
   "cell_type": "code",
   "execution_count": 12,
   "metadata": {
    "ExecuteTime": {
     "end_time": "2020-03-03T11:24:02.582374Z",
     "start_time": "2020-03-03T11:24:02.156874Z"
    }
   },
   "outputs": [],
   "source": [
    "make_down_sampling_validation(0.2, 0.3)\n",
    "make_down_sampling_validation(0.15, 0.3)\n",
    "make_down_sampling_validation(0.1, 0.3)"
   ]
  },
  {
   "cell_type": "code",
   "execution_count": null,
   "metadata": {},
   "outputs": [],
   "source": []
  }
 ],
 "metadata": {
  "kernelspec": {
   "display_name": "Python 3",
   "language": "python",
   "name": "python3"
  },
  "language_info": {
   "codemirror_mode": {
    "name": "ipython",
    "version": 3
   },
   "file_extension": ".py",
   "mimetype": "text/x-python",
   "name": "python",
   "nbconvert_exporter": "python",
   "pygments_lexer": "ipython3",
   "version": "3.7.3"
  }
 },
 "nbformat": 4,
 "nbformat_minor": 2
}
