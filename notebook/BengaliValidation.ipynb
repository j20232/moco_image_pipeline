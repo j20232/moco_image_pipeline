{
 "cells": [
  {
   "cell_type": "code",
   "execution_count": 88,
   "metadata": {
    "ExecuteTime": {
     "end_time": "2020-03-04T14:46:21.836797Z",
     "start_time": "2020-03-04T14:46:21.827464Z"
    }
   },
   "outputs": [],
   "source": [
    "import pandas as pd\n",
    "import numpy as np\n",
    "from pathlib import Path\n",
    "from sklearn.model_selection import train_test_split\n",
    "from sklearn.preprocessing import LabelEncoder"
   ]
  },
  {
   "cell_type": "code",
   "execution_count": 89,
   "metadata": {
    "ExecuteTime": {
     "end_time": "2020-03-04T14:46:22.394500Z",
     "start_time": "2020-03-04T14:46:22.301717Z"
    }
   },
   "outputs": [],
   "source": [
    "ROOT_PATH = Path(\".\").resolve().parents[0] # please change here\n",
    "train_df = pd.read_csv(ROOT_PATH / \"input\" / \"bengaliai-cv19\" / \"train.csv\")"
   ]
  },
  {
   "cell_type": "code",
   "execution_count": 121,
   "metadata": {
    "ExecuteTime": {
     "end_time": "2020-03-04T14:59:03.582067Z",
     "start_time": "2020-03-04T14:59:03.572227Z"
    }
   },
   "outputs": [],
   "source": [
    "def make_validation(ratio=0.2, random_state=1116):\n",
    "    le = LabelEncoder()\n",
    "    le = le.fit(train_df['grapheme'])\n",
    "    train_df['unique_label'] = le.transform(train_df['grapheme'])\n",
    "    train, valid = train_test_split(train_df, test_size=ratio, random_state=random_state, stratify=train_df[\"unique_label\"])\n",
    "    out_train = train.set_index(\"image_id\")\n",
    "    out_valid = valid.set_index(\"image_id\")\n",
    "    print(\"train length: {} {}\".format(len(out_train), len(out_train) / len(train_df)))\n",
    "    print(\"valid length: {} {}\".format(len(out_valid), len(out_valid) / len(train_df)))\n",
    "    print(out_train[\"unique_label\"].nunique())\n",
    "    print(out_valid[\"unique_label\"].nunique())\n",
    "    print(\"-------------------\")\n",
    "    out_train.to_csv(ROOT_PATH / \"input\" / \"bengaliai-cv19\" / \"moco_train_{}.csv\".format(int(ratio * 100)))\n",
    "    out_valid.to_csv(ROOT_PATH / \"input\" / \"bengaliai-cv19\" / \"moco_valid_{}.csv\".format(int(ratio * 100)))"
   ]
  },
  {
   "cell_type": "code",
   "execution_count": 122,
   "metadata": {
    "ExecuteTime": {
     "end_time": "2020-03-04T14:59:05.200556Z",
     "start_time": "2020-03-04T14:59:03.863559Z"
    },
    "scrolled": false
   },
   "outputs": [
    {
     "name": "stdout",
     "output_type": "stream",
     "text": [
      "train length: 160672 0.8\n",
      "valid length: 40168 0.2\n",
      "1295\n",
      "1295\n",
      "-------------------\n",
      "train length: 170714 0.85\n",
      "valid length: 30126 0.15\n",
      "1295\n",
      "1295\n",
      "-------------------\n",
      "train length: 180756 0.9\n",
      "valid length: 20084 0.1\n",
      "1295\n",
      "1295\n",
      "-------------------\n"
     ]
    }
   ],
   "source": [
    "make_validation(0.20)\n",
    "make_validation(0.15)\n",
    "make_validation(0.10)"
   ]
  },
  {
   "cell_type": "code",
   "execution_count": null,
   "metadata": {},
   "outputs": [],
   "source": []
  }
 ],
 "metadata": {
  "kernelspec": {
   "display_name": "Python 3",
   "language": "python",
   "name": "python3"
  },
  "language_info": {
   "codemirror_mode": {
    "name": "ipython",
    "version": 3
   },
   "file_extension": ".py",
   "mimetype": "text/x-python",
   "name": "python",
   "nbconvert_exporter": "python",
   "pygments_lexer": "ipython3",
   "version": "3.7.0"
  }
 },
 "nbformat": 4,
 "nbformat_minor": 2
}
