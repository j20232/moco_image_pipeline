{
 "cells": [
  {
   "cell_type": "code",
   "execution_count": 7,
   "metadata": {
    "ExecuteTime": {
     "end_time": "2020-03-10T13:14:04.213159Z",
     "start_time": "2020-03-10T13:14:04.205486Z"
    }
   },
   "outputs": [],
   "source": [
    "import pandas as pd\n",
    "import numpy as np\n",
    "from pathlib import Path\n",
    "from sklearn.model_selection import train_test_split\n",
    "from sklearn.preprocessing import LabelEncoder"
   ]
  },
  {
   "cell_type": "code",
   "execution_count": 2,
   "metadata": {
    "ExecuteTime": {
     "end_time": "2020-03-10T13:08:16.838196Z",
     "start_time": "2020-03-10T13:08:16.641915Z"
    }
   },
   "outputs": [],
   "source": [
    "ROOT_PATH = Path(\".\").resolve().parents[0] # please change here\n",
    "train_df = pd.read_csv(ROOT_PATH / \"input\" / \"bengaliai-cv19\" / \"train.csv\")"
   ]
  },
  {
   "cell_type": "code",
   "execution_count": 8,
   "metadata": {
    "ExecuteTime": {
     "end_time": "2020-03-10T13:14:21.654784Z",
     "start_time": "2020-03-10T13:14:21.627738Z"
    }
   },
   "outputs": [],
   "source": [
    "le = LabelEncoder()\n",
    "le = le.fit(train_df['grapheme'])\n",
    "train_df['unique_label'] = le.transform(train_df['grapheme'])"
   ]
  },
  {
   "cell_type": "code",
   "execution_count": 3,
   "metadata": {
    "ExecuteTime": {
     "end_time": "2020-03-10T13:09:21.777153Z",
     "start_time": "2020-03-10T13:09:21.751260Z"
    }
   },
   "outputs": [],
   "source": [
    "grapheme2idx = {grapheme: idx for idx, grapheme in enumerate(train_df.grapheme.unique())}\n",
    "train_df['grapheme_id'] = train_df['grapheme'].map(grapheme2idx)"
   ]
  },
  {
   "cell_type": "code",
   "execution_count": 9,
   "metadata": {
    "ExecuteTime": {
     "end_time": "2020-03-10T13:14:32.152379Z",
     "start_time": "2020-03-10T13:14:32.145998Z"
    }
   },
   "outputs": [
    {
     "data": {
      "text/html": [
       "<div>\n",
       "<style scoped>\n",
       "    .dataframe tbody tr th:only-of-type {\n",
       "        vertical-align: middle;\n",
       "    }\n",
       "\n",
       "    .dataframe tbody tr th {\n",
       "        vertical-align: top;\n",
       "    }\n",
       "\n",
       "    .dataframe thead th {\n",
       "        text-align: right;\n",
       "    }\n",
       "</style>\n",
       "<table border=\"1\" class=\"dataframe\">\n",
       "  <thead>\n",
       "    <tr style=\"text-align: right;\">\n",
       "      <th></th>\n",
       "      <th>image_id</th>\n",
       "      <th>grapheme_root</th>\n",
       "      <th>vowel_diacritic</th>\n",
       "      <th>consonant_diacritic</th>\n",
       "      <th>grapheme</th>\n",
       "      <th>grapheme_id</th>\n",
       "      <th>unseen</th>\n",
       "      <th>unique_label</th>\n",
       "    </tr>\n",
       "  </thead>\n",
       "  <tbody>\n",
       "    <tr>\n",
       "      <th>0</th>\n",
       "      <td>Train_0</td>\n",
       "      <td>15</td>\n",
       "      <td>9</td>\n",
       "      <td>5</td>\n",
       "      <td>ক্ট্রো</td>\n",
       "      <td>0</td>\n",
       "      <td>0</td>\n",
       "      <td>44</td>\n",
       "    </tr>\n",
       "    <tr>\n",
       "      <th>1</th>\n",
       "      <td>Train_1</td>\n",
       "      <td>159</td>\n",
       "      <td>0</td>\n",
       "      <td>0</td>\n",
       "      <td>হ</td>\n",
       "      <td>1</td>\n",
       "      <td>0</td>\n",
       "      <td>1248</td>\n",
       "    </tr>\n",
       "    <tr>\n",
       "      <th>2</th>\n",
       "      <td>Train_2</td>\n",
       "      <td>22</td>\n",
       "      <td>3</td>\n",
       "      <td>5</td>\n",
       "      <td>খ্রী</td>\n",
       "      <td>2</td>\n",
       "      <td>0</td>\n",
       "      <td>103</td>\n",
       "    </tr>\n",
       "    <tr>\n",
       "      <th>3</th>\n",
       "      <td>Train_3</td>\n",
       "      <td>53</td>\n",
       "      <td>2</td>\n",
       "      <td>2</td>\n",
       "      <td>র্টি</td>\n",
       "      <td>3</td>\n",
       "      <td>0</td>\n",
       "      <td>888</td>\n",
       "    </tr>\n",
       "    <tr>\n",
       "      <th>4</th>\n",
       "      <td>Train_4</td>\n",
       "      <td>71</td>\n",
       "      <td>9</td>\n",
       "      <td>5</td>\n",
       "      <td>থ্রো</td>\n",
       "      <td>4</td>\n",
       "      <td>0</td>\n",
       "      <td>438</td>\n",
       "    </tr>\n",
       "  </tbody>\n",
       "</table>\n",
       "</div>"
      ],
      "text/plain": [
       "  image_id  grapheme_root  vowel_diacritic  consonant_diacritic grapheme  \\\n",
       "0  Train_0             15                9                    5   ক্ট্রো   \n",
       "1  Train_1            159                0                    0        হ   \n",
       "2  Train_2             22                3                    5     খ্রী   \n",
       "3  Train_3             53                2                    2     র্টি   \n",
       "4  Train_4             71                9                    5     থ্রো   \n",
       "\n",
       "   grapheme_id  unseen  unique_label  \n",
       "0            0       0            44  \n",
       "1            1       0          1248  \n",
       "2            2       0           103  \n",
       "3            3       0           888  \n",
       "4            4       0           438  "
      ]
     },
     "execution_count": 9,
     "metadata": {},
     "output_type": "execute_result"
    }
   ],
   "source": [
    "train_df.head(5)"
   ]
  },
  {
   "cell_type": "code",
   "execution_count": 24,
   "metadata": {
    "ExecuteTime": {
     "end_time": "2020-03-10T13:18:09.944367Z",
     "start_time": "2020-03-10T13:18:09.918726Z"
    }
   },
   "outputs": [
    {
     "data": {
      "text/plain": [
       "7313"
      ]
     },
     "execution_count": 24,
     "metadata": {},
     "output_type": "execute_result"
    }
   ],
   "source": [
    "sum(train_df[\"unique_label\"].value_counts().tail(55))"
   ]
  },
  {
   "cell_type": "code",
   "execution_count": 36,
   "metadata": {
    "ExecuteTime": {
     "end_time": "2020-03-10T13:22:02.060674Z",
     "start_time": "2020-03-10T13:22:02.053170Z"
    }
   },
   "outputs": [],
   "source": [
    "unseen_indices = list(train_df[\"unique_label\"].value_counts().tail(55).index)"
   ]
  },
  {
   "cell_type": "code",
   "execution_count": 42,
   "metadata": {
    "ExecuteTime": {
     "end_time": "2020-03-10T13:25:14.301466Z",
     "start_time": "2020-03-10T13:25:14.294746Z"
    }
   },
   "outputs": [],
   "source": [
    "train_df[\"unseen\"] = 0\n",
    "train_df.loc[train_df.unique_label.isin(unseen_indices), \"unseen\"] = 1"
   ]
  },
  {
   "cell_type": "code",
   "execution_count": 45,
   "metadata": {
    "ExecuteTime": {
     "end_time": "2020-03-10T13:26:16.371755Z",
     "start_time": "2020-03-10T13:26:16.333857Z"
    }
   },
   "outputs": [
    {
     "data": {
      "text/html": [
       "<div>\n",
       "<style scoped>\n",
       "    .dataframe tbody tr th:only-of-type {\n",
       "        vertical-align: middle;\n",
       "    }\n",
       "\n",
       "    .dataframe tbody tr th {\n",
       "        vertical-align: top;\n",
       "    }\n",
       "\n",
       "    .dataframe thead th {\n",
       "        text-align: right;\n",
       "    }\n",
       "</style>\n",
       "<table border=\"1\" class=\"dataframe\">\n",
       "  <thead>\n",
       "    <tr style=\"text-align: right;\">\n",
       "      <th></th>\n",
       "      <th>image_id</th>\n",
       "      <th>grapheme_root</th>\n",
       "      <th>vowel_diacritic</th>\n",
       "      <th>consonant_diacritic</th>\n",
       "      <th>grapheme</th>\n",
       "      <th>grapheme_id</th>\n",
       "      <th>unseen</th>\n",
       "      <th>unique_label</th>\n",
       "    </tr>\n",
       "  </thead>\n",
       "  <tbody>\n",
       "    <tr>\n",
       "      <th>0</th>\n",
       "      <td>Train_0</td>\n",
       "      <td>15</td>\n",
       "      <td>9</td>\n",
       "      <td>5</td>\n",
       "      <td>ক্ট্রো</td>\n",
       "      <td>0</td>\n",
       "      <td>0</td>\n",
       "      <td>44</td>\n",
       "    </tr>\n",
       "    <tr>\n",
       "      <th>1</th>\n",
       "      <td>Train_1</td>\n",
       "      <td>159</td>\n",
       "      <td>0</td>\n",
       "      <td>0</td>\n",
       "      <td>হ</td>\n",
       "      <td>1</td>\n",
       "      <td>0</td>\n",
       "      <td>1248</td>\n",
       "    </tr>\n",
       "    <tr>\n",
       "      <th>2</th>\n",
       "      <td>Train_2</td>\n",
       "      <td>22</td>\n",
       "      <td>3</td>\n",
       "      <td>5</td>\n",
       "      <td>খ্রী</td>\n",
       "      <td>2</td>\n",
       "      <td>0</td>\n",
       "      <td>103</td>\n",
       "    </tr>\n",
       "    <tr>\n",
       "      <th>3</th>\n",
       "      <td>Train_3</td>\n",
       "      <td>53</td>\n",
       "      <td>2</td>\n",
       "      <td>2</td>\n",
       "      <td>র্টি</td>\n",
       "      <td>3</td>\n",
       "      <td>0</td>\n",
       "      <td>888</td>\n",
       "    </tr>\n",
       "    <tr>\n",
       "      <th>4</th>\n",
       "      <td>Train_4</td>\n",
       "      <td>71</td>\n",
       "      <td>9</td>\n",
       "      <td>5</td>\n",
       "      <td>থ্রো</td>\n",
       "      <td>4</td>\n",
       "      <td>0</td>\n",
       "      <td>438</td>\n",
       "    </tr>\n",
       "  </tbody>\n",
       "</table>\n",
       "</div>"
      ],
      "text/plain": [
       "  image_id  grapheme_root  vowel_diacritic  consonant_diacritic grapheme  \\\n",
       "0  Train_0             15                9                    5   ক্ট্রো   \n",
       "1  Train_1            159                0                    0        হ   \n",
       "2  Train_2             22                3                    5     খ্রী   \n",
       "3  Train_3             53                2                    2     র্টি   \n",
       "4  Train_4             71                9                    5     থ্রো   \n",
       "\n",
       "   grapheme_id  unseen  unique_label  \n",
       "0            0       0            44  \n",
       "1            1       0          1248  \n",
       "2            2       0           103  \n",
       "3            3       0           888  \n",
       "4            4       0           438  "
      ]
     },
     "execution_count": 45,
     "metadata": {},
     "output_type": "execute_result"
    }
   ],
   "source": [
    "df = train_df.query(\"unseen==0\")\n",
    "df.head(5)"
   ]
  },
  {
   "cell_type": "code",
   "execution_count": 46,
   "metadata": {
    "ExecuteTime": {
     "end_time": "2020-03-10T13:27:10.151705Z",
     "start_time": "2020-03-10T13:27:10.054125Z"
    }
   },
   "outputs": [],
   "source": [
    "random_state = 1116\n",
    "ratio = 0.1\n",
    "train, valid = train_test_split(df, test_size=ratio, random_state=random_state, stratify=df[\"unique_label\"])"
   ]
  },
  {
   "cell_type": "code",
   "execution_count": 47,
   "metadata": {
    "ExecuteTime": {
     "end_time": "2020-03-10T13:27:55.755886Z",
     "start_time": "2020-03-10T13:27:55.729983Z"
    }
   },
   "outputs": [],
   "source": [
    "valid = pd.concat([valid, train_df.query(\"unseen==1\")])"
   ]
  },
  {
   "cell_type": "code",
   "execution_count": 51,
   "metadata": {
    "ExecuteTime": {
     "end_time": "2020-03-10T13:28:15.359307Z",
     "start_time": "2020-03-10T13:28:15.346975Z"
    }
   },
   "outputs": [
    {
     "data": {
      "text/html": [
       "<div>\n",
       "<style scoped>\n",
       "    .dataframe tbody tr th:only-of-type {\n",
       "        vertical-align: middle;\n",
       "    }\n",
       "\n",
       "    .dataframe tbody tr th {\n",
       "        vertical-align: top;\n",
       "    }\n",
       "\n",
       "    .dataframe thead th {\n",
       "        text-align: right;\n",
       "    }\n",
       "</style>\n",
       "<table border=\"1\" class=\"dataframe\">\n",
       "  <thead>\n",
       "    <tr style=\"text-align: right;\">\n",
       "      <th></th>\n",
       "      <th>image_id</th>\n",
       "      <th>grapheme_root</th>\n",
       "      <th>vowel_diacritic</th>\n",
       "      <th>consonant_diacritic</th>\n",
       "      <th>grapheme</th>\n",
       "      <th>grapheme_id</th>\n",
       "      <th>unseen</th>\n",
       "      <th>unique_label</th>\n",
       "    </tr>\n",
       "  </thead>\n",
       "  <tbody>\n",
       "    <tr>\n",
       "      <th>141176</th>\n",
       "      <td>Train_141176</td>\n",
       "      <td>97</td>\n",
       "      <td>7</td>\n",
       "      <td>0</td>\n",
       "      <td>প্টে</td>\n",
       "      <td>401</td>\n",
       "      <td>0</td>\n",
       "      <td>646</td>\n",
       "    </tr>\n",
       "    <tr>\n",
       "      <th>61731</th>\n",
       "      <td>Train_61731</td>\n",
       "      <td>107</td>\n",
       "      <td>2</td>\n",
       "      <td>4</td>\n",
       "      <td>ব্যি</td>\n",
       "      <td>361</td>\n",
       "      <td>0</td>\n",
       "      <td>729</td>\n",
       "    </tr>\n",
       "    <tr>\n",
       "      <th>7555</th>\n",
       "      <td>Train_7555</td>\n",
       "      <td>107</td>\n",
       "      <td>1</td>\n",
       "      <td>6</td>\n",
       "      <td>ব্র্যা</td>\n",
       "      <td>1197</td>\n",
       "      <td>0</td>\n",
       "      <td>740</td>\n",
       "    </tr>\n",
       "    <tr>\n",
       "      <th>82663</th>\n",
       "      <td>Train_82663</td>\n",
       "      <td>113</td>\n",
       "      <td>8</td>\n",
       "      <td>0</td>\n",
       "      <td>ভৈ</td>\n",
       "      <td>505</td>\n",
       "      <td>0</td>\n",
       "      <td>756</td>\n",
       "    </tr>\n",
       "    <tr>\n",
       "      <th>115625</th>\n",
       "      <td>Train_115625</td>\n",
       "      <td>29</td>\n",
       "      <td>0</td>\n",
       "      <td>0</td>\n",
       "      <td>ঘ</td>\n",
       "      <td>215</td>\n",
       "      <td>0</td>\n",
       "      <td>148</td>\n",
       "    </tr>\n",
       "  </tbody>\n",
       "</table>\n",
       "</div>"
      ],
      "text/plain": [
       "            image_id  grapheme_root  vowel_diacritic  consonant_diacritic  \\\n",
       "141176  Train_141176             97                7                    0   \n",
       "61731    Train_61731            107                2                    4   \n",
       "7555      Train_7555            107                1                    6   \n",
       "82663    Train_82663            113                8                    0   \n",
       "115625  Train_115625             29                0                    0   \n",
       "\n",
       "       grapheme  grapheme_id  unseen  unique_label  \n",
       "141176     প্টে          401       0           646  \n",
       "61731      ব্যি          361       0           729  \n",
       "7555     ব্র্যা         1197       0           740  \n",
       "82663        ভৈ          505       0           756  \n",
       "115625        ঘ          215       0           148  "
      ]
     },
     "execution_count": 51,
     "metadata": {},
     "output_type": "execute_result"
    }
   ],
   "source": [
    "train.head(5)"
   ]
  },
  {
   "cell_type": "code",
   "execution_count": 50,
   "metadata": {
    "ExecuteTime": {
     "end_time": "2020-03-10T13:28:12.381168Z",
     "start_time": "2020-03-10T13:28:12.372726Z"
    }
   },
   "outputs": [
    {
     "data": {
      "text/html": [
       "<div>\n",
       "<style scoped>\n",
       "    .dataframe tbody tr th:only-of-type {\n",
       "        vertical-align: middle;\n",
       "    }\n",
       "\n",
       "    .dataframe tbody tr th {\n",
       "        vertical-align: top;\n",
       "    }\n",
       "\n",
       "    .dataframe thead th {\n",
       "        text-align: right;\n",
       "    }\n",
       "</style>\n",
       "<table border=\"1\" class=\"dataframe\">\n",
       "  <thead>\n",
       "    <tr style=\"text-align: right;\">\n",
       "      <th></th>\n",
       "      <th>image_id</th>\n",
       "      <th>grapheme_root</th>\n",
       "      <th>vowel_diacritic</th>\n",
       "      <th>consonant_diacritic</th>\n",
       "      <th>grapheme</th>\n",
       "      <th>grapheme_id</th>\n",
       "      <th>unseen</th>\n",
       "      <th>unique_label</th>\n",
       "    </tr>\n",
       "  </thead>\n",
       "  <tbody>\n",
       "    <tr>\n",
       "      <th>99048</th>\n",
       "      <td>Train_99048</td>\n",
       "      <td>109</td>\n",
       "      <td>0</td>\n",
       "      <td>0</td>\n",
       "      <td>ব্দ</td>\n",
       "      <td>34</td>\n",
       "      <td>0</td>\n",
       "      <td>715</td>\n",
       "    </tr>\n",
       "    <tr>\n",
       "      <th>145964</th>\n",
       "      <td>Train_145964</td>\n",
       "      <td>122</td>\n",
       "      <td>10</td>\n",
       "      <td>0</td>\n",
       "      <td>যৌ</td>\n",
       "      <td>1108</td>\n",
       "      <td>0</td>\n",
       "      <td>834</td>\n",
       "    </tr>\n",
       "    <tr>\n",
       "      <th>56761</th>\n",
       "      <td>Train_56761</td>\n",
       "      <td>64</td>\n",
       "      <td>8</td>\n",
       "      <td>5</td>\n",
       "      <td>ত্রৈ</td>\n",
       "      <td>252</td>\n",
       "      <td>0</td>\n",
       "      <td>423</td>\n",
       "    </tr>\n",
       "    <tr>\n",
       "      <th>131816</th>\n",
       "      <td>Train_131816</td>\n",
       "      <td>79</td>\n",
       "      <td>0</td>\n",
       "      <td>2</td>\n",
       "      <td>র্ধ</td>\n",
       "      <td>645</td>\n",
       "      <td>0</td>\n",
       "      <td>932</td>\n",
       "    </tr>\n",
       "    <tr>\n",
       "      <th>8660</th>\n",
       "      <td>Train_8660</td>\n",
       "      <td>69</td>\n",
       "      <td>7</td>\n",
       "      <td>0</td>\n",
       "      <td>ত্বে</td>\n",
       "      <td>1060</td>\n",
       "      <td>0</td>\n",
       "      <td>405</td>\n",
       "    </tr>\n",
       "  </tbody>\n",
       "</table>\n",
       "</div>"
      ],
      "text/plain": [
       "            image_id  grapheme_root  vowel_diacritic  consonant_diacritic  \\\n",
       "99048    Train_99048            109                0                    0   \n",
       "145964  Train_145964            122               10                    0   \n",
       "56761    Train_56761             64                8                    5   \n",
       "131816  Train_131816             79                0                    2   \n",
       "8660      Train_8660             69                7                    0   \n",
       "\n",
       "       grapheme  grapheme_id  unseen  unique_label  \n",
       "99048       ব্দ           34       0           715  \n",
       "145964       যৌ         1108       0           834  \n",
       "56761      ত্রৈ          252       0           423  \n",
       "131816      র্ধ          645       0           932  \n",
       "8660       ত্বে         1060       0           405  "
      ]
     },
     "execution_count": 50,
     "metadata": {},
     "output_type": "execute_result"
    }
   ],
   "source": [
    "valid.head(5)"
   ]
  },
  {
   "cell_type": "code",
   "execution_count": 52,
   "metadata": {
    "ExecuteTime": {
     "end_time": "2020-03-10T13:28:20.018125Z",
     "start_time": "2020-03-10T13:28:19.986638Z"
    }
   },
   "outputs": [
    {
     "data": {
      "text/html": [
       "<div>\n",
       "<style scoped>\n",
       "    .dataframe tbody tr th:only-of-type {\n",
       "        vertical-align: middle;\n",
       "    }\n",
       "\n",
       "    .dataframe tbody tr th {\n",
       "        vertical-align: top;\n",
       "    }\n",
       "\n",
       "    .dataframe thead th {\n",
       "        text-align: right;\n",
       "    }\n",
       "</style>\n",
       "<table border=\"1\" class=\"dataframe\">\n",
       "  <thead>\n",
       "    <tr style=\"text-align: right;\">\n",
       "      <th></th>\n",
       "      <th>image_id</th>\n",
       "      <th>grapheme_root</th>\n",
       "      <th>vowel_diacritic</th>\n",
       "      <th>consonant_diacritic</th>\n",
       "      <th>grapheme</th>\n",
       "      <th>grapheme_id</th>\n",
       "      <th>unseen</th>\n",
       "      <th>unique_label</th>\n",
       "    </tr>\n",
       "  </thead>\n",
       "  <tbody>\n",
       "    <tr>\n",
       "      <th>200564</th>\n",
       "      <td>Train_200564</td>\n",
       "      <td>109</td>\n",
       "      <td>3</td>\n",
       "      <td>0</td>\n",
       "      <td>ব্দী</td>\n",
       "      <td>18</td>\n",
       "      <td>1</td>\n",
       "      <td>718</td>\n",
       "    </tr>\n",
       "    <tr>\n",
       "      <th>200578</th>\n",
       "      <td>Train_200578</td>\n",
       "      <td>27</td>\n",
       "      <td>0</td>\n",
       "      <td>0</td>\n",
       "      <td>গ্ম</td>\n",
       "      <td>246</td>\n",
       "      <td>1</td>\n",
       "      <td>129</td>\n",
       "    </tr>\n",
       "    <tr>\n",
       "      <th>200769</th>\n",
       "      <td>Train_200769</td>\n",
       "      <td>74</td>\n",
       "      <td>10</td>\n",
       "      <td>0</td>\n",
       "      <td>দ্দৌ</td>\n",
       "      <td>495</td>\n",
       "      <td>1</td>\n",
       "      <td>459</td>\n",
       "    </tr>\n",
       "    <tr>\n",
       "      <th>200794</th>\n",
       "      <td>Train_200794</td>\n",
       "      <td>74</td>\n",
       "      <td>10</td>\n",
       "      <td>0</td>\n",
       "      <td>দ্দৌ</td>\n",
       "      <td>495</td>\n",
       "      <td>1</td>\n",
       "      <td>459</td>\n",
       "    </tr>\n",
       "    <tr>\n",
       "      <th>200829</th>\n",
       "      <td>Train_200829</td>\n",
       "      <td>81</td>\n",
       "      <td>4</td>\n",
       "      <td>0</td>\n",
       "      <td>নু</td>\n",
       "      <td>786</td>\n",
       "      <td>1</td>\n",
       "      <td>522</td>\n",
       "    </tr>\n",
       "  </tbody>\n",
       "</table>\n",
       "</div>"
      ],
      "text/plain": [
       "            image_id  grapheme_root  vowel_diacritic  consonant_diacritic  \\\n",
       "200564  Train_200564            109                3                    0   \n",
       "200578  Train_200578             27                0                    0   \n",
       "200769  Train_200769             74               10                    0   \n",
       "200794  Train_200794             74               10                    0   \n",
       "200829  Train_200829             81                4                    0   \n",
       "\n",
       "       grapheme  grapheme_id  unseen  unique_label  \n",
       "200564     ব্দী           18       1           718  \n",
       "200578      গ্ম          246       1           129  \n",
       "200769     দ্দৌ          495       1           459  \n",
       "200794     দ্দৌ          495       1           459  \n",
       "200829       নু          786       1           522  "
      ]
     },
     "execution_count": 52,
     "metadata": {},
     "output_type": "execute_result"
    }
   ],
   "source": [
    "valid.tail(5)"
   ]
  },
  {
   "cell_type": "code",
   "execution_count": 53,
   "metadata": {
    "ExecuteTime": {
     "end_time": "2020-03-10T13:29:10.932117Z",
     "start_time": "2020-03-10T13:29:10.342102Z"
    }
   },
   "outputs": [],
   "source": [
    "out_train = train.set_index(\"image_id\")\n",
    "out_valid = valid.set_index(\"image_id\")\n",
    "out_train.to_csv(ROOT_PATH / \"input\" / \"bengaliai-cv19\" / \"moco_train_unseen.csv\")\n",
    "out_valid.to_csv(ROOT_PATH / \"input\" / \"bengaliai-cv19\" / \"moco_valid_unseen.csv\")"
   ]
  },
  {
   "cell_type": "code",
   "execution_count": null,
   "metadata": {},
   "outputs": [],
   "source": []
  }
 ],
 "metadata": {
  "kernelspec": {
   "display_name": "Python 3",
   "language": "python",
   "name": "python3"
  },
  "language_info": {
   "codemirror_mode": {
    "name": "ipython",
    "version": 3
   },
   "file_extension": ".py",
   "mimetype": "text/x-python",
   "name": "python",
   "nbconvert_exporter": "python",
   "pygments_lexer": "ipython3",
   "version": "3.7.0"
  }
 },
 "nbformat": 4,
 "nbformat_minor": 4
}
