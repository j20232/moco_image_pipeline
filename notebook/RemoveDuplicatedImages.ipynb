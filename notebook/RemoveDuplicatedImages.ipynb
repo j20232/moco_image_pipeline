{
 "cells": [
  {
   "cell_type": "code",
   "execution_count": 26,
   "metadata": {
    "ExecuteTime": {
     "end_time": "2020-03-12T13:20:39.760264Z",
     "start_time": "2020-03-12T13:20:39.386276Z"
    }
   },
   "outputs": [],
   "source": [
    "import pandas as pd\n",
    "import numpy as np\n",
    "import cv2\n",
    "import matplotlib.pyplot as plt\n",
    "from pathlib import Path\n",
    "from sklearn.model_selection import train_test_split\n",
    "from sklearn.preprocessing import LabelEncoder"
   ]
  },
  {
   "cell_type": "code",
   "execution_count": 27,
   "metadata": {
    "ExecuteTime": {
     "end_time": "2020-03-12T13:21:04.885822Z",
     "start_time": "2020-03-12T13:21:04.674930Z"
    }
   },
   "outputs": [],
   "source": [
    "ROOT_PATH = Path(\".\").resolve().parents[0] # please change here\n",
    "INPUT_PATH = ROOT_PATH / \"input\" / \"bengaliai-cv19\" / \"train_images\"\n",
    "train_df = pd.read_csv(ROOT_PATH / \"input\" / \"bengaliai-cv19\" / \"train.csv\")"
   ]
  },
  {
   "cell_type": "code",
   "execution_count": 37,
   "metadata": {
    "ExecuteTime": {
     "end_time": "2020-03-12T13:26:31.122051Z",
     "start_time": "2020-03-12T13:26:30.749500Z"
    }
   },
   "outputs": [],
   "source": [
    "le = LabelEncoder()\n",
    "le = le.fit(train_df['grapheme'])\n",
    "train_df['char'] = le.transform(train_df['grapheme'])"
   ]
  },
  {
   "cell_type": "code",
   "execution_count": 73,
   "metadata": {
    "ExecuteTime": {
     "end_time": "2020-03-12T14:16:45.152804Z",
     "start_time": "2020-03-12T14:16:40.173672Z"
    },
    "scrolled": true
   },
   "outputs": [
    {
     "name": "stdout",
     "output_type": "stream",
     "text": [
      "র্তে      153\n",
      "র্ত্রে    150\n",
      "Name: grapheme, dtype: int64\n",
      "64    303\n",
      "Name: grapheme_root, dtype: int64\n",
      "7    303\n",
      "Name: vowel_diacritic, dtype: int64\n",
      "2    303\n",
      "Name: consonant_diacritic, dtype: int64\n",
      "0.15086636128261302\n",
      "===========================================\n",
      "র্দ্র    151\n",
      "র্দ      146\n",
      "Name: grapheme, dtype: int64\n",
      "72    297\n",
      "Name: grapheme_root, dtype: int64\n",
      "0    297\n",
      "Name: vowel_diacritic, dtype: int64\n",
      "2    297\n",
      "Name: consonant_diacritic, dtype: int64\n",
      "0.14787890858394742\n",
      "===========================================\n",
      "র্ত্রী    145\n",
      "র্তী      144\n",
      "Name: grapheme, dtype: int64\n",
      "64    289\n",
      "Name: grapheme_root, dtype: int64\n",
      "3    289\n",
      "Name: vowel_diacritic, dtype: int64\n",
      "2    289\n",
      "Name: consonant_diacritic, dtype: int64\n",
      "0.14389563831905994\n",
      "===========================================\n"
     ]
    }
   ],
   "source": [
    "train_df['unique_label'] = train_df[\"grapheme_root\"] * 1 + train_df[\"vowel_diacritic\"] * 1000 + train_df[\"consonant_diacritic\"] * 100000\n",
    "for i in train_df[\"unique_label\"].value_counts().keys():\n",
    "    tmp_df = train_df.query(f\"unique_label=={i}\")\n",
    "    if len(tmp_df[\"grapheme\"].value_counts().keys()) > 1:\n",
    "        print(tmp_df[\"grapheme\"].value_counts())\n",
    "        print(tmp_df[\"grapheme_root\"].value_counts())\n",
    "        print(tmp_df[\"vowel_diacritic\"].value_counts())\n",
    "        print(tmp_df[\"consonant_diacritic\"].value_counts())\n",
    "        print(len(tmp_df) / len(train_df) * 100)\n",
    "        print(\"===========================================\")"
   ]
  },
  {
   "cell_type": "markdown",
   "metadata": {},
   "source": [
    "## g, v, c = 72, 0, X"
   ]
  },
  {
   "cell_type": "code",
   "execution_count": 61,
   "metadata": {
    "ExecuteTime": {
     "end_time": "2020-03-12T13:57:34.912094Z",
     "start_time": "2020-03-12T13:57:34.901922Z"
    }
   },
   "outputs": [
    {
     "data": {
      "text/plain": [
       "2    297\n",
       "4    150\n",
       "5    149\n",
       "0    148\n",
       "6    139\n",
       "Name: consonant_diacritic, dtype: int64"
      ]
     },
     "execution_count": 61,
     "metadata": {},
     "output_type": "execute_result"
    }
   ],
   "source": [
    "train_df.query(\"grapheme_root==72 and vowel_diacritic==0\")[\"consonant_diacritic\"].value_counts()"
   ]
  },
  {
   "cell_type": "code",
   "execution_count": 66,
   "metadata": {
    "ExecuteTime": {
     "end_time": "2020-03-12T14:06:01.995972Z",
     "start_time": "2020-03-12T14:06:01.985527Z"
    }
   },
   "outputs": [
    {
     "name": "stdout",
     "output_type": "stream",
     "text": [
      "র্দ্র 151 ['র', '্', 'দ', '্', 'র']\n",
      "দ্য 150 ['দ', '্', 'য']\n",
      "দ্র 149 ['দ', '্', 'র']\n",
      "দ 148 ['দ']\n",
      "র্দ 146 ['র', '্', 'দ']\n",
      "দ্র্য 139 ['দ', '্', 'র', '্', 'য']\n"
     ]
    }
   ],
   "source": [
    "a = train_df.query(\"grapheme_root==72 and vowel_diacritic==0\")[\"grapheme\"].value_counts()\n",
    "for k, v in a.items():\n",
    "    b = list(k)\n",
    "    print(k, v, b)"
   ]
  },
  {
   "cell_type": "markdown",
   "metadata": {},
   "source": [
    "## g, v, c = 72, X, 2"
   ]
  },
  {
   "cell_type": "code",
   "execution_count": 55,
   "metadata": {
    "ExecuteTime": {
     "end_time": "2020-03-12T13:42:50.447422Z",
     "start_time": "2020-03-12T13:42:50.436994Z"
    }
   },
   "outputs": [
    {
     "data": {
      "text/plain": [
       "0    297\n",
       "2    166\n",
       "7    165\n",
       "6    150\n",
       "4    145\n",
       "3    144\n",
       "9    143\n",
       "1    143\n",
       "Name: vowel_diacritic, dtype: int64"
      ]
     },
     "execution_count": 55,
     "metadata": {},
     "output_type": "execute_result"
    }
   ],
   "source": [
    "train_df.query(\"grapheme_root==72 and consonant_diacritic==2\")[\"vowel_diacritic\"].value_counts()"
   ]
  },
  {
   "cell_type": "code",
   "execution_count": 67,
   "metadata": {
    "ExecuteTime": {
     "end_time": "2020-03-12T14:06:33.363852Z",
     "start_time": "2020-03-12T14:06:33.352963Z"
    }
   },
   "outputs": [
    {
     "name": "stdout",
     "output_type": "stream",
     "text": [
      "র্দি 166 ['র', '্', 'দ', 'ি']\n",
      "র্দে 165 ['র', '্', 'দ', 'ে']\n",
      "র্দ্র 151 ['র', '্', 'দ', '্', 'র']\n",
      "র্দৃ 150 ['র', '্', 'দ', 'ৃ']\n",
      "র্দ 146 ['র', '্', 'দ']\n",
      "র্দু 145 ['র', '্', 'দ', 'ু']\n",
      "র্দী 144 ['র', '্', 'দ', 'ী']\n",
      "র্দা 143 ['র', '্', 'দ', 'া']\n",
      "র্দো 143 ['র', '্', 'দ', 'ো']\n"
     ]
    }
   ],
   "source": [
    "a = train_df.query(\"grapheme_root==72 and consonant_diacritic==2\")[\"grapheme\"].value_counts()\n",
    "for k, v in a.items():\n",
    "    b = list(k)\n",
    "    print(k, v, b)"
   ]
  },
  {
   "cell_type": "markdown",
   "metadata": {},
   "source": [
    "Which is (72, 0, 2)?\n",
    "\n",
    "র্দ্র & র্দ -> র্দ"
   ]
  },
  {
   "cell_type": "markdown",
   "metadata": {},
   "source": [
    "## g, v, c = 64, X, 2"
   ]
  },
  {
   "cell_type": "code",
   "execution_count": 48,
   "metadata": {
    "ExecuteTime": {
     "end_time": "2020-03-12T13:38:25.661579Z",
     "start_time": "2020-03-12T13:38:25.651178Z"
    }
   },
   "outputs": [
    {
     "data": {
      "text/plain": [
       "7    303\n",
       "3    289\n",
       "2    167\n",
       "4    151\n",
       "1    150\n",
       "0    150\n",
       "6    147\n",
       "Name: vowel_diacritic, dtype: int64"
      ]
     },
     "execution_count": 48,
     "metadata": {},
     "output_type": "execute_result"
    }
   ],
   "source": [
    "train_df.query(\"grapheme_root==64 and consonant_diacritic==2\")[\"vowel_diacritic\"].value_counts()"
   ]
  },
  {
   "cell_type": "code",
   "execution_count": 65,
   "metadata": {
    "ExecuteTime": {
     "end_time": "2020-03-12T14:05:38.070821Z",
     "start_time": "2020-03-12T14:05:38.060522Z"
    }
   },
   "outputs": [
    {
     "name": "stdout",
     "output_type": "stream",
     "text": [
      "র্তি 167 ['র', '্', 'ত', 'ি']\n",
      "র্তে 153 ['র', '্', 'ত', 'ে']\n",
      "র্তু 151 ['র', '্', 'ত', 'ু']\n",
      "র্তা 150 ['র', '্', 'ত', 'া']\n",
      "র্ত্রে 150 ['র', '্', 'ত', '্', 'র', 'ে']\n",
      "র্ত 150 ['র', '্', 'ত']\n",
      "র্তৃ 147 ['র', '্', 'ত', 'ৃ']\n",
      "র্ত্রী 145 ['র', '্', 'ত', '্', 'র', 'ী']\n",
      "র্তী 144 ['র', '্', 'ত', 'ী']\n"
     ]
    }
   ],
   "source": [
    "a = train_df.query(\"grapheme_root==64 and consonant_diacritic==2\")[\"grapheme\"].value_counts()\n",
    "for k, v in a.items():\n",
    "    b = list(k)\n",
    "    print(k, v, b)"
   ]
  },
  {
   "cell_type": "markdown",
   "metadata": {},
   "source": [
    "## g, v, c = 64, 7, X"
   ]
  },
  {
   "cell_type": "code",
   "execution_count": 70,
   "metadata": {
    "ExecuteTime": {
     "end_time": "2020-03-12T14:15:54.610025Z",
     "start_time": "2020-03-12T14:15:54.600270Z"
    }
   },
   "outputs": [
    {
     "data": {
      "text/plain": [
       "2    303\n",
       "4    170\n",
       "5    166\n",
       "0    155\n",
       "1    147\n",
       "Name: consonant_diacritic, dtype: int64"
      ]
     },
     "execution_count": 70,
     "metadata": {},
     "output_type": "execute_result"
    }
   ],
   "source": [
    "train_df.query(\"grapheme_root==64 and vowel_diacritic==7\")[\"consonant_diacritic\"].value_counts()"
   ]
  },
  {
   "cell_type": "code",
   "execution_count": 71,
   "metadata": {
    "ExecuteTime": {
     "end_time": "2020-03-12T14:16:07.332634Z",
     "start_time": "2020-03-12T14:16:07.322309Z"
    }
   },
   "outputs": [
    {
     "name": "stdout",
     "output_type": "stream",
     "text": [
      "ত্যে 170 ['ত', '্', 'য', 'ে']\n",
      "ত্রে 166 ['ত', '্', 'র', 'ে']\n",
      "তে 155 ['ত', 'ে']\n",
      "র্তে 153 ['র', '্', 'ত', 'ে']\n",
      "র্ত্রে 150 ['র', '্', 'ত', '্', 'র', 'ে']\n",
      "তেঁ 147 ['ত', 'ে', 'ঁ']\n"
     ]
    }
   ],
   "source": [
    "a = train_df.query(\"grapheme_root==64 and vowel_diacritic==7\")[\"grapheme\"].value_counts()\n",
    "for k, v in a.items():\n",
    "    b = list(k)\n",
    "    print(k, v, b)"
   ]
  },
  {
   "cell_type": "code",
   "execution_count": null,
   "metadata": {},
   "outputs": [],
   "source": []
  }
 ],
 "metadata": {
  "kernelspec": {
   "display_name": "Python 3",
   "language": "python",
   "name": "python3"
  },
  "language_info": {
   "codemirror_mode": {
    "name": "ipython",
    "version": 3
   },
   "file_extension": ".py",
   "mimetype": "text/x-python",
   "name": "python",
   "nbconvert_exporter": "python",
   "pygments_lexer": "ipython3",
   "version": "3.7.0"
  }
 },
 "nbformat": 4,
 "nbformat_minor": 2
}
